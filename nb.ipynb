{
 "cells": [
  {
   "cell_type": "code",
   "execution_count": 1,
   "metadata": {},
   "outputs": [],
   "source": [
    "import numpy as np\n",
    "from mllib.supervised import LinearRegression, LogisticRegressionClassifier, kNearestNeighbors\n",
    "\n",
    "%load_ext autoreload\n",
    "%autoreload 2"
   ]
  },
  {
   "cell_type": "markdown",
   "metadata": {},
   "source": [
    "## Test: Logistic Regression Classifier"
   ]
  },
  {
   "cell_type": "code",
   "execution_count": 2,
   "metadata": {},
   "outputs": [
    {
     "data": {
      "text/plain": [
       "array([[-1],\n",
       "       [-1],\n",
       "       [ 1],\n",
       "       [-1]])"
      ]
     },
     "execution_count": 2,
     "metadata": {},
     "output_type": "execute_result"
    }
   ],
   "source": [
    "mod = LogisticRegressionClassifier()\n",
    "X_train = np.array([[2], [3], [7], [6], [1], [8]])\n",
    "y_train = np.array([[-1], [-1], [1], [1], [-1], [1]])\n",
    "mod.fit(X_train, y_train)\n",
    "pred = mod.predict(np.array([[2.5], [5.5], [8], [4.5]]))\n",
    "pred"
   ]
  },
  {
   "cell_type": "markdown",
   "metadata": {},
   "source": [
    "## Test: Linear Regression"
   ]
  },
  {
   "cell_type": "code",
   "execution_count": 3,
   "metadata": {},
   "outputs": [
    {
     "name": "stdout",
     "output_type": "stream",
     "text": [
      "[[1.        ]\n",
      " [2.        ]\n",
      " [3.        ]\n",
      " [3.48848776]\n",
      " [4.31798368]]\n"
     ]
    }
   ],
   "source": [
    "mod = LinearRegression()\n",
    "X_train = np.array([[1,2,5], [2,3,4], [3,4,3]])\n",
    "y_train = np.array([[1], [2], [3]])\n",
    "X_test = np.array([[1,2,5], [2,3,4], [3,4,3], [4,2,2], [5,2,1]])\n",
    "mod.fit(X_train, y_train)\n",
    "pred = mod.predict(X_test)\n",
    "print(pred)"
   ]
  },
  {
   "cell_type": "markdown",
   "metadata": {},
   "source": [
    "## Test: kNN"
   ]
  },
  {
   "cell_type": "code",
   "execution_count": 4,
   "metadata": {},
   "outputs": [
    {
     "data": {
      "text/plain": [
       "array([[1],\n",
       "       [1],\n",
       "       [2],\n",
       "       [2]])"
      ]
     },
     "execution_count": 4,
     "metadata": {},
     "output_type": "execute_result"
    }
   ],
   "source": [
    "mod = kNearestNeighbors(k=1)\n",
    "X_train = np.array([[1,2], [3,4], [4,5]])\n",
    "y_train = np.array([[1], [2], [2]])\n",
    "X_test = np.array([[1,1], [0,0], [3,3], [4,3]])\n",
    "mod.fit(X_train, y_train)\n",
    "pred = mod.predict(X_test)\n",
    "pred"
   ]
  }
 ],
 "metadata": {
  "kernelspec": {
   "display_name": "Python 3",
   "language": "python",
   "name": "python3"
  },
  "language_info": {
   "codemirror_mode": {
    "name": "ipython",
    "version": 3
   },
   "file_extension": ".py",
   "mimetype": "text/x-python",
   "name": "python",
   "nbconvert_exporter": "python",
   "pygments_lexer": "ipython3",
   "version": "3.8.2"
  }
 },
 "nbformat": 4,
 "nbformat_minor": 4
}
